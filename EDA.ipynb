{
 "cells": [
  {
   "cell_type": "code",
   "execution_count": 283,
   "id": "37ead2a4",
   "metadata": {},
   "outputs": [],
   "source": [
    "import os\n",
    "\n",
    "import numpy as np\n",
    "import pandas as pd\n",
    "import matplotlib.pyplot as plt\n",
    "import seaborn as sns\n",
    "\n",
    "\n",
    "seed = 1\n",
    "%matplotlib inline"
   ]
  },
  {
   "cell_type": "code",
   "execution_count": 292,
   "id": "69b741c5",
   "metadata": {},
   "outputs": [],
   "source": [
    "TRAIN_PATH = \"train.csv\"\n",
    "TEST_PATH = \"test.csv\"\n",
    "\n",
    "\n",
    "train = pd.read_csv(TRAIN_PATH, sep=';')\n",
    "test = pd.read_csv(TEST_PATH, sep=';')"
   ]
  },
  {
   "cell_type": "code",
   "execution_count": 293,
   "id": "cb091eeb",
   "metadata": {},
   "outputs": [
    {
     "data": {
      "text/plain": [
       "Index(['bathrooms', 'bedrooms', 'created', 'description', 'display_address',\n",
       "       'features', 'latitude', 'longitude', 'manager_id', 'photos', 'price',\n",
       "       'street_address', 'interest_level'],\n",
       "      dtype='object')"
      ]
     },
     "execution_count": 293,
     "metadata": {},
     "output_type": "execute_result"
    }
   ],
   "source": [
    "# Так как по условию building_id и listing_id использовать нельзя\n",
    "# То лучше их удалить\n",
    "train = train.drop(columns={\"building_id\", \"listing_id\"})\n",
    "train.columns"
   ]
  },
  {
   "cell_type": "code",
   "execution_count": 294,
   "id": "c950a3ec",
   "metadata": {},
   "outputs": [
    {
     "data": {
      "text/plain": [
       "<AxesSubplot:>"
      ]
     },
     "execution_count": 294,
     "metadata": {},
     "output_type": "execute_result"
    },
    {
     "data": {
      "image/png": "[encoded data removed]",
      "text/plain": [
       "<Figure size 432x288 with 1 Axes>"
      ]
     },
     "metadata": {
      "needs_background": "light"
     },
     "output_type": "display_data"
    }
   ],
   "source": [
    "# Посмотрим на распределение классов\n",
    "train.interest_level.hist()"
   ]
  },
  {
   "cell_type": "code",
   "execution_count": 295,
   "id": "af0bc257",
   "metadata": {},
   "outputs": [
    {
     "data": {
      "text/plain": [
       "low       0.695170\n",
       "medium    0.226463\n",
       "high      0.078367\n",
       "Name: interest_level, dtype: float64"
      ]
     },
     "execution_count": 295,
     "metadata": {},
     "output_type": "execute_result"
    }
   ],
   "source": [
    "train.interest_level.value_counts(normalize=True)"
   ]
  },
  {
   "cell_type": "markdown",
   "id": "8007d2f4",
   "metadata": {},
   "source": [
    "## EDA"
   ]
  },
  {
   "cell_type": "code",
   "execution_count": 296,
   "id": "fa3bceb5",
   "metadata": {},
   "outputs": [],
   "source": [
    "# Преобразуем классы к числам\n",
    "# Чтобы мы смогли удобнее с нимми работать\n",
    "mapper={\n",
    "        'low':0,\n",
    "        'medium':1,\n",
    "        'high':2\n",
    "       }\n",
    "\n",
    "train['interest_level'] = train['interest_level'].apply(mapper.__getitem__)"
   ]
  },
  {
   "cell_type": "code",
   "execution_count": 297,
   "id": "e8c95259",
   "metadata": {},
   "outputs": [
    {
     "name": "stderr",
     "output_type": "stream",
     "text": [
      "<ipython-input-297-b667128c7a91>:2: FutureWarning: The default value of regex will change from True to False in a future version.\n",
      "  train['features'] = train['features'].str.replace('[\\[\\]\\']', '').str.split(', ')\n"
     ]
    }
   ],
   "source": [
    "# Генерация фичей по заданию\n",
    "train['features'] = train['features'].str.replace('[\\[\\]\\']', '').str.split(', ')"
   ]
  },
  {
   "cell_type": "code",
   "execution_count": 298,
   "id": "868e04f6",
   "metadata": {},
   "outputs": [
    {
     "name": "stderr",
     "output_type": "stream",
     "text": [
      "<ipython-input-298-06d261a0a3d3>:1: FutureWarning: The default value of regex will change from True to False in a future version.\n",
      "  train['photos'] = train.photos.str.replace('[\\[\\]\\']', '').str.split(', ')\n",
      "<ipython-input-298-06d261a0a3d3>:3: FutureWarning: The default value of regex will change from True to False in a future version.\n",
      "  train[\"num_description_words\"] = train['description'].str.replace('<.*?>', '').str.split().fillna('').apply(len)\n"
     ]
    }
   ],
   "source": [
    "train['photos'] = train.photos.str.replace('[\\[\\]\\']', '').str.split(', ')\n",
    "train['num_photos'] = train['photos'].apply(len)\n",
    "train[\"num_description_words\"] = train['description'].str.replace('<.*?>', '').str.split().fillna('').apply(len)"
   ]
  },
  {
   "cell_type": "code",
   "execution_count": 299,
   "id": "64efb895",
   "metadata": {},
   "outputs": [
    {
     "data": {
      "text/html": [
       "<div>\n",
       "<style scoped>\n",
       "    .dataframe tbody tr th:only-of-type {\n",
       "        vertical-align: middle;\n",
       "    }\n",
       "\n",
       "    .dataframe tbody tr th {\n",
       "        vertical-align: top;\n",
       "    }\n",
       "\n",
       "    .dataframe thead th {\n",
       "        text-align: right;\n",
       "    }\n",
       "</style>\n",
       "<table border=\"1\" class=\"dataframe\">\n",
       "  <thead>\n",
       "    <tr style=\"text-align: right;\">\n",
       "      <th></th>\n",
       "      <th>bathrooms</th>\n",
       "      <th>bedrooms</th>\n",
       "      <th>created</th>\n",
       "      <th>description</th>\n",
       "      <th>display_address</th>\n",
       "      <th>features</th>\n",
       "      <th>latitude</th>\n",
       "      <th>longitude</th>\n",
       "      <th>manager_id</th>\n",
       "      <th>photos</th>\n",
       "      <th>price</th>\n",
       "      <th>street_address</th>\n",
       "      <th>interest_level</th>\n",
       "      <th>num_photos</th>\n",
       "      <th>num_description_words</th>\n",
       "    </tr>\n",
       "  </thead>\n",
       "  <tbody>\n",
       "    <tr>\n",
       "      <th>0</th>\n",
       "      <td>1.0</td>\n",
       "      <td>0</td>\n",
       "      <td>2016-06-02 04:21:46</td>\n",
       "      <td>AMAZING STUDIO!! CONVENIENT TO ALL - G...</td>\n",
       "      <td>Gold Street</td>\n",
       "      <td>[Cats Allowed, Dogs Allowed]</td>\n",
       "      <td>40.6969</td>\n",
       "      <td>-73.9830</td>\n",
       "      <td>79d1809d224bc7f26c719f247d6c8dc6</td>\n",
       "      <td>[https://photos.renthop.com/2/7097709_8f74305e...</td>\n",
       "      <td>2575</td>\n",
       "      <td>257 Gold Street</td>\n",
       "      <td>0</td>\n",
       "      <td>10</td>\n",
       "      <td>317</td>\n",
       "    </tr>\n",
       "    <tr>\n",
       "      <th>1</th>\n",
       "      <td>1.0</td>\n",
       "      <td>2</td>\n",
       "      <td>2016-05-26 05:44:12</td>\n",
       "      <td>Near NYU, Washington SQ Park, centrally locate...</td>\n",
       "      <td>Thompson Street</td>\n",
       "      <td>[]</td>\n",
       "      <td>40.7264</td>\n",
       "      <td>-74.0013</td>\n",
       "      <td>e60b02e0cfd2eea7d777bb283d6f8d4d</td>\n",
       "      <td>[https://photos.renthop.com/2/7071860_32b196af...</td>\n",
       "      <td>3250</td>\n",
       "      <td>128 Thompson Street</td>\n",
       "      <td>2</td>\n",
       "      <td>5</td>\n",
       "      <td>11</td>\n",
       "    </tr>\n",
       "    <tr>\n",
       "      <th>2</th>\n",
       "      <td>1.0</td>\n",
       "      <td>0</td>\n",
       "      <td>2016-06-17 01:22:32</td>\n",
       "      <td>RENT STABILIZED! FULL TIME DOORMAN.LEXINGTON A...</td>\n",
       "      <td>East 35th Street</td>\n",
       "      <td>[Doorman, Dogs Allowed, Cats Allowed]</td>\n",
       "      <td>40.7466</td>\n",
       "      <td>-73.9779</td>\n",
       "      <td>91a276fdb4c7ae5ff56fd0884b5121db</td>\n",
       "      <td>[https://photos.renthop.com/2/7174524_bde8df9d...</td>\n",
       "      <td>2448</td>\n",
       "      <td>165 East 35th Street</td>\n",
       "      <td>0</td>\n",
       "      <td>1</td>\n",
       "      <td>85</td>\n",
       "    </tr>\n",
       "    <tr>\n",
       "      <th>3</th>\n",
       "      <td>1.0</td>\n",
       "      <td>1</td>\n",
       "      <td>2016-06-03 05:26:40</td>\n",
       "      <td>WHY TO LIVE IN THIS LUXURIOUS BUILDING? WEEKDA...</td>\n",
       "      <td>West 42nd Street</td>\n",
       "      <td>[Swimming Pool, Roof Deck, Dining Room, Doorma...</td>\n",
       "      <td>40.7610</td>\n",
       "      <td>-73.9992</td>\n",
       "      <td>cbcd513212d592e6c717d27be14f46ac</td>\n",
       "      <td>[https://photos.renthop.com/2/7104515_bab07536...</td>\n",
       "      <td>3300</td>\n",
       "      <td>610 West 42nd Street</td>\n",
       "      <td>0</td>\n",
       "      <td>6</td>\n",
       "      <td>123</td>\n",
       "    </tr>\n",
       "    <tr>\n",
       "      <th>4</th>\n",
       "      <td>2.0</td>\n",
       "      <td>0</td>\n",
       "      <td>2016-04-12 04:10:28</td>\n",
       "      <td>Listed on the National Register of His...</td>\n",
       "      <td>Greenwich Street</td>\n",
       "      <td>[Doorman, Fitness Center, No Fee]</td>\n",
       "      <td>40.7324</td>\n",
       "      <td>-74.0081</td>\n",
       "      <td>b209e2c4384a64cc307c26759ee0c651</td>\n",
       "      <td>[https://photos.renthop.com/2/6859942_16f88f7f...</td>\n",
       "      <td>5450</td>\n",
       "      <td>666 Greenwich Street</td>\n",
       "      <td>0</td>\n",
       "      <td>8</td>\n",
       "      <td>63</td>\n",
       "    </tr>\n",
       "  </tbody>\n",
       "</table>\n",
       "</div>"
      ],
      "text/plain": [
       "   bathrooms  bedrooms              created  \\\n",
       "0        1.0         0  2016-06-02 04:21:46   \n",
       "1        1.0         2  2016-05-26 05:44:12   \n",
       "2        1.0         0  2016-06-17 01:22:32   \n",
       "3        1.0         1  2016-06-03 05:26:40   \n",
       "4        2.0         0  2016-04-12 04:10:28   \n",
       "\n",
       "                                         description   display_address  \\\n",
       "0          AMAZING STUDIO!! CONVENIENT TO ALL - G...       Gold Street   \n",
       "1  Near NYU, Washington SQ Park, centrally locate...   Thompson Street   \n",
       "2  RENT STABILIZED! FULL TIME DOORMAN.LEXINGTON A...  East 35th Street   \n",
       "3  WHY TO LIVE IN THIS LUXURIOUS BUILDING? WEEKDA...  West 42nd Street   \n",
       "4          Listed on the National Register of His...  Greenwich Street   \n",
       "\n",
       "                                            features  latitude  longitude  \\\n",
       "0                       [Cats Allowed, Dogs Allowed]   40.6969   -73.9830   \n",
       "1                                                 []   40.7264   -74.0013   \n",
       "2              [Doorman, Dogs Allowed, Cats Allowed]   40.7466   -73.9779   \n",
       "3  [Swimming Pool, Roof Deck, Dining Room, Doorma...   40.7610   -73.9992   \n",
       "4                  [Doorman, Fitness Center, No Fee]   40.7324   -74.0081   \n",
       "\n",
       "                         manager_id  \\\n",
       "0  79d1809d224bc7f26c719f247d6c8dc6   \n",
       "1  e60b02e0cfd2eea7d777bb283d6f8d4d   \n",
       "2  91a276fdb4c7ae5ff56fd0884b5121db   \n",
       "3  cbcd513212d592e6c717d27be14f46ac   \n",
       "4  b209e2c4384a64cc307c26759ee0c651   \n",
       "\n",
       "                                              photos  price  \\\n",
       "0  [https://photos.renthop.com/2/7097709_8f74305e...   2575   \n",
       "1  [https://photos.renthop.com/2/7071860_32b196af...   3250   \n",
       "2  [https://photos.renthop.com/2/7174524_bde8df9d...   2448   \n",
       "3  [https://photos.renthop.com/2/7104515_bab07536...   3300   \n",
       "4  [https://photos.renthop.com/2/6859942_16f88f7f...   5450   \n",
       "\n",
       "         street_address  interest_level  num_photos  num_description_words  \n",
       "0       257 Gold Street               0          10                    317  \n",
       "1   128 Thompson Street               2           5                     11  \n",
       "2  165 East 35th Street               0           1                     85  \n",
       "3  610 West 42nd Street               0           6                    123  \n",
       "4  666 Greenwich Street               0           8                     63  "
      ]
     },
     "execution_count": 299,
     "metadata": {},
     "output_type": "execute_result"
    }
   ],
   "source": [
    "train.head()"
   ]
  },
  {
   "cell_type": "markdown",
   "id": "a45091a5",
   "metadata": {},
   "source": [
    "## Менеджеры\n",
    "**Идеи**:\n",
    "1. Посчитать для каждого менеджера кол-во заявок\n",
    "2. Посчитать эффективность менеджера. Так как много менеджеров, которые создают много заявок.Однако интерес этих заявок низкий. Поэтому можно подсчитать средний интерес заявки для каждого менеджера\n",
    "3. Скомбинировать пункты 1 и 2 и получить что-то вроде рейтинга менеджера. По идее успешный менеджер тот, кто выкладывает много заявок с высоким интересом\n"
   ]
  },
  {
   "cell_type": "code",
   "execution_count": 301,
   "id": "7909077e",
   "metadata": {},
   "outputs": [
    {
     "data": {
      "text/plain": [
       "e6472c7237327dd3903b3d6f6a94515a    2035\n",
       "6e5c10246156ae5bdcd9b487ca99d96a     576\n",
       "8f5a9c893f6d602f4953fcc0b8e6e9b4     333\n",
       "62b685cc0d876c3a1a51d63a0d6a8082     315\n",
       "cb87dadbca78fad02b388dc9e8f25a5b     307\n",
       "Name: manager_id, dtype: int64"
      ]
     },
     "execution_count": 301,
     "metadata": {},
     "output_type": "execute_result"
    }
   ],
   "source": [
    "# Кол-во заявок на каждого менеджера\n",
    "manger_counts = train.manager_id.value_counts()\n",
    "manger_counts.head()"
   ]
  },
  {
   "cell_type": "code",
   "execution_count": 302,
   "id": "fd767859",
   "metadata": {},
   "outputs": [
    {
     "data": {
      "text/plain": [
       "manager_id\n",
       "0000abd7518b94c35a90d64b56fbf3e6    0.727273\n",
       "001ce808ce1720e24a9510e014c69707    0.000000\n",
       "003fc4e9a70053082f131b1054966aaf    0.000000\n",
       "00607a02f6efd9c6c7c588826e471ee9    1.000000\n",
       "00995ff28d79127ed2dca8320e9e7d09    0.333333\n",
       "Name: interest_level, dtype: float64"
      ]
     },
     "execution_count": 302,
     "metadata": {},
     "output_type": "execute_result"
    }
   ],
   "source": [
    "# Средний интерес заявки для менеджера\n",
    "manager_efficiency = train.groupby(\"manager_id\").interest_level.mean()\n",
    "manager_efficiency.head()"
   ]
  },
  {
   "cell_type": "code",
   "execution_count": 303,
   "id": "b8f80e8b",
   "metadata": {},
   "outputs": [
    {
     "data": {
      "text/plain": [
       "0000abd7518b94c35a90d64b56fbf3e6    1.743924\n",
       "001ce808ce1720e24a9510e014c69707    0.000000\n",
       "003fc4e9a70053082f131b1054966aaf    0.000000\n",
       "00607a02f6efd9c6c7c588826e471ee9    0.693147\n",
       "00995ff28d79127ed2dca8320e9e7d09    0.366204\n",
       "dtype: float64"
      ]
     },
     "execution_count": 303,
     "metadata": {},
     "output_type": "execute_result"
    }
   ],
   "source": [
    "# Рейтинг менеджера\n",
    "rating = manager_efficiency * np.log(manger_counts)\n",
    "rating.head()"
   ]
  },
  {
   "cell_type": "code",
   "execution_count": 307,
   "id": "a394e1a4",
   "metadata": {},
   "outputs": [],
   "source": [
    "train[\"manager_count\"] = train.manager_id.apply(manger_counts.__getitem__)\n",
    "train[\"manager_exp\"] = train.manager_id.apply(manager_efficiency.__getitem__)\n",
    "train[\"manager_rating\"] = train.manager_id.apply(rating.__getitem__)"
   ]
  },
  {
   "cell_type": "code",
   "execution_count": 308,
   "id": "17b0c0bb",
   "metadata": {},
   "outputs": [
    {
     "data": {
      "text/html": [
       "<div>\n",
       "<style scoped>\n",
       "    .dataframe tbody tr th:only-of-type {\n",
       "        vertical-align: middle;\n",
       "    }\n",
       "\n",
       "    .dataframe tbody tr th {\n",
       "        vertical-align: top;\n",
       "    }\n",
       "\n",
       "    .dataframe thead th {\n",
       "        text-align: right;\n",
       "    }\n",
       "</style>\n",
       "<table border=\"1\" class=\"dataframe\">\n",
       "  <thead>\n",
       "    <tr style=\"text-align: right;\">\n",
       "      <th></th>\n",
       "      <th>bathrooms</th>\n",
       "      <th>bedrooms</th>\n",
       "      <th>created</th>\n",
       "      <th>description</th>\n",
       "      <th>display_address</th>\n",
       "      <th>features</th>\n",
       "      <th>latitude</th>\n",
       "      <th>longitude</th>\n",
       "      <th>manager_id</th>\n",
       "      <th>photos</th>\n",
       "      <th>price</th>\n",
       "      <th>street_address</th>\n",
       "      <th>interest_level</th>\n",
       "      <th>num_photos</th>\n",
       "      <th>num_description_words</th>\n",
       "      <th>manager_exp</th>\n",
       "      <th>manager_rating</th>\n",
       "      <th>manager_count</th>\n",
       "    </tr>\n",
       "  </thead>\n",
       "  <tbody>\n",
       "    <tr>\n",
       "      <th>0</th>\n",
       "      <td>1.0</td>\n",
       "      <td>0</td>\n",
       "      <td>2016-06-02 04:21:46</td>\n",
       "      <td>AMAZING STUDIO!! CONVENIENT TO ALL - G...</td>\n",
       "      <td>Gold Street</td>\n",
       "      <td>[Cats Allowed, Dogs Allowed]</td>\n",
       "      <td>40.6969</td>\n",
       "      <td>-73.9830</td>\n",
       "      <td>79d1809d224bc7f26c719f247d6c8dc6</td>\n",
       "      <td>[https://photos.renthop.com/2/7097709_8f74305e...</td>\n",
       "      <td>2575</td>\n",
       "      <td>257 Gold Street</td>\n",
       "      <td>0</td>\n",
       "      <td>10</td>\n",
       "      <td>317</td>\n",
       "      <td>0.000000</td>\n",
       "      <td>0.000000</td>\n",
       "      <td>3</td>\n",
       "    </tr>\n",
       "    <tr>\n",
       "      <th>1</th>\n",
       "      <td>1.0</td>\n",
       "      <td>2</td>\n",
       "      <td>2016-05-26 05:44:12</td>\n",
       "      <td>Near NYU, Washington SQ Park, centrally locate...</td>\n",
       "      <td>Thompson Street</td>\n",
       "      <td>[]</td>\n",
       "      <td>40.7264</td>\n",
       "      <td>-74.0013</td>\n",
       "      <td>e60b02e0cfd2eea7d777bb283d6f8d4d</td>\n",
       "      <td>[https://photos.renthop.com/2/7071860_32b196af...</td>\n",
       "      <td>3250</td>\n",
       "      <td>128 Thompson Street</td>\n",
       "      <td>2</td>\n",
       "      <td>5</td>\n",
       "      <td>11</td>\n",
       "      <td>0.777778</td>\n",
       "      <td>1.708952</td>\n",
       "      <td>9</td>\n",
       "    </tr>\n",
       "    <tr>\n",
       "      <th>2</th>\n",
       "      <td>1.0</td>\n",
       "      <td>0</td>\n",
       "      <td>2016-06-17 01:22:32</td>\n",
       "      <td>RENT STABILIZED! FULL TIME DOORMAN.LEXINGTON A...</td>\n",
       "      <td>East 35th Street</td>\n",
       "      <td>[Doorman, Dogs Allowed, Cats Allowed]</td>\n",
       "      <td>40.7466</td>\n",
       "      <td>-73.9779</td>\n",
       "      <td>91a276fdb4c7ae5ff56fd0884b5121db</td>\n",
       "      <td>[https://photos.renthop.com/2/7174524_bde8df9d...</td>\n",
       "      <td>2448</td>\n",
       "      <td>165 East 35th Street</td>\n",
       "      <td>0</td>\n",
       "      <td>1</td>\n",
       "      <td>85</td>\n",
       "      <td>0.000000</td>\n",
       "      <td>0.000000</td>\n",
       "      <td>35</td>\n",
       "    </tr>\n",
       "    <tr>\n",
       "      <th>3</th>\n",
       "      <td>1.0</td>\n",
       "      <td>1</td>\n",
       "      <td>2016-06-03 05:26:40</td>\n",
       "      <td>WHY TO LIVE IN THIS LUXURIOUS BUILDING? WEEKDA...</td>\n",
       "      <td>West 42nd Street</td>\n",
       "      <td>[Swimming Pool, Roof Deck, Dining Room, Doorma...</td>\n",
       "      <td>40.7610</td>\n",
       "      <td>-73.9992</td>\n",
       "      <td>cbcd513212d592e6c717d27be14f46ac</td>\n",
       "      <td>[https://photos.renthop.com/2/7104515_bab07536...</td>\n",
       "      <td>3300</td>\n",
       "      <td>610 West 42nd Street</td>\n",
       "      <td>0</td>\n",
       "      <td>6</td>\n",
       "      <td>123</td>\n",
       "      <td>0.400000</td>\n",
       "      <td>1.360479</td>\n",
       "      <td>30</td>\n",
       "    </tr>\n",
       "    <tr>\n",
       "      <th>4</th>\n",
       "      <td>2.0</td>\n",
       "      <td>0</td>\n",
       "      <td>2016-04-12 04:10:28</td>\n",
       "      <td>Listed on the National Register of His...</td>\n",
       "      <td>Greenwich Street</td>\n",
       "      <td>[Doorman, Fitness Center, No Fee]</td>\n",
       "      <td>40.7324</td>\n",
       "      <td>-74.0081</td>\n",
       "      <td>b209e2c4384a64cc307c26759ee0c651</td>\n",
       "      <td>[https://photos.renthop.com/2/6859942_16f88f7f...</td>\n",
       "      <td>5450</td>\n",
       "      <td>666 Greenwich Street</td>\n",
       "      <td>0</td>\n",
       "      <td>8</td>\n",
       "      <td>63</td>\n",
       "      <td>0.120690</td>\n",
       "      <td>0.622645</td>\n",
       "      <td>174</td>\n",
       "    </tr>\n",
       "  </tbody>\n",
       "</table>\n",
       "</div>"
      ],
      "text/plain": [
       "   bathrooms  bedrooms              created  \\\n",
       "0        1.0         0  2016-06-02 04:21:46   \n",
       "1        1.0         2  2016-05-26 05:44:12   \n",
       "2        1.0         0  2016-06-17 01:22:32   \n",
       "3        1.0         1  2016-06-03 05:26:40   \n",
       "4        2.0         0  2016-04-12 04:10:28   \n",
       "\n",
       "                                         description   display_address  \\\n",
       "0          AMAZING STUDIO!! CONVENIENT TO ALL - G...       Gold Street   \n",
       "1  Near NYU, Washington SQ Park, centrally locate...   Thompson Street   \n",
       "2  RENT STABILIZED! FULL TIME DOORMAN.LEXINGTON A...  East 35th Street   \n",
       "3  WHY TO LIVE IN THIS LUXURIOUS BUILDING? WEEKDA...  West 42nd Street   \n",
       "4          Listed on the National Register of His...  Greenwich Street   \n",
       "\n",
       "                                            features  latitude  longitude  \\\n",
       "0                       [Cats Allowed, Dogs Allowed]   40.6969   -73.9830   \n",
       "1                                                 []   40.7264   -74.0013   \n",
       "2              [Doorman, Dogs Allowed, Cats Allowed]   40.7466   -73.9779   \n",
       "3  [Swimming Pool, Roof Deck, Dining Room, Doorma...   40.7610   -73.9992   \n",
       "4                  [Doorman, Fitness Center, No Fee]   40.7324   -74.0081   \n",
       "\n",
       "                         manager_id  \\\n",
       "0  79d1809d224bc7f26c719f247d6c8dc6   \n",
       "1  e60b02e0cfd2eea7d777bb283d6f8d4d   \n",
       "2  91a276fdb4c7ae5ff56fd0884b5121db   \n",
       "3  cbcd513212d592e6c717d27be14f46ac   \n",
       "4  b209e2c4384a64cc307c26759ee0c651   \n",
       "\n",
       "                                              photos  price  \\\n",
       "0  [https://photos.renthop.com/2/7097709_8f74305e...   2575   \n",
       "1  [https://photos.renthop.com/2/7071860_32b196af...   3250   \n",
       "2  [https://photos.renthop.com/2/7174524_bde8df9d...   2448   \n",
       "3  [https://photos.renthop.com/2/7104515_bab07536...   3300   \n",
       "4  [https://photos.renthop.com/2/6859942_16f88f7f...   5450   \n",
       "\n",
       "         street_address  interest_level  num_photos  num_description_words  \\\n",
       "0       257 Gold Street               0          10                    317   \n",
       "1   128 Thompson Street               2           5                     11   \n",
       "2  165 East 35th Street               0           1                     85   \n",
       "3  610 West 42nd Street               0           6                    123   \n",
       "4  666 Greenwich Street               0           8                     63   \n",
       "\n",
       "   manager_exp  manager_rating  manager_count  \n",
       "0     0.000000        0.000000              3  \n",
       "1     0.777778        1.708952              9  \n",
       "2     0.000000        0.000000             35  \n",
       "3     0.400000        1.360479             30  \n",
       "4     0.120690        0.622645            174  "
      ]
     },
     "execution_count": 308,
     "metadata": {},
     "output_type": "execute_result"
    }
   ],
   "source": [
    "train.head()"
   ]
  },
  {
   "cell_type": "code",
   "execution_count": 310,
   "id": "226e6f88",
   "metadata": {},
   "outputs": [
    {
     "data": {
      "text/plain": [
       "<AxesSubplot:xlabel='manager_exp', ylabel='Count'>"
      ]
     },
     "execution_count": 310,
     "metadata": {},
     "output_type": "execute_result"
    },
    {
     "data": {
      "image/png": "[encoded data removed]",
      "text/plain": [
       "<Figure size 432x288 with 1 Axes>"
      ]
     },
     "metadata": {
      "needs_background": "light"
     },
     "output_type": "display_data"
    }
   ],
   "source": [
    "# Кол-во менеджеров по их среднему интересу\n",
    "sns.histplot(train,\n",
    "             x=\"manager_exp\",\n",
    "             hue=\"interest_level\",\n",
    "             bins=50,\n",
    "            )"
   ]
  },
  {
   "cell_type": "code",
   "execution_count": 311,
   "id": "4786fb69",
   "metadata": {},
   "outputs": [
    {
     "data": {
      "text/plain": [
       "<AxesSubplot:xlabel='manager_rating', ylabel='Count'>"
      ]
     },
     "execution_count": 311,
     "metadata": {},
     "output_type": "execute_result"
    },
    {
     "data": {
      "image/png": "[encoded data removed]",
      "text/plain": [
       "<Figure size 432x288 with 1 Axes>"
      ]
     },
     "metadata": {
      "needs_background": "light"
     },
     "output_type": "display_data"
    }
   ],
   "source": [
    "# Кол-во менеджеров по их рейтингу\n",
    "sns.histplot(train,\n",
    "             x=\"manager_rating\",\n",
    "             hue=\"interest_level\",\n",
    "             bins=50,\n",
    "            )"
   ]
  },
  {
   "cell_type": "code",
   "execution_count": 313,
   "id": "a0c5d571",
   "metadata": {},
   "outputs": [
    {
     "data": {
      "text/plain": [
       "<AxesSubplot:xlabel='manager_count', ylabel='Count'>"
      ]
     },
     "execution_count": 313,
     "metadata": {},
     "output_type": "execute_result"
    },
    {
     "data": {
      "image/png": "[encoded data removed]",
      "text/plain": [
       "<Figure size 432x288 with 1 Axes>"
      ]
     },
     "metadata": {
      "needs_background": "light"
     },
     "output_type": "display_data"
    }
   ],
   "source": [
    "# Кол-во менеджеров по их количеству заявок\n",
    "# Здесь можно заметить, что с возрастанием кол-ва заявок\n",
    "# Интерес самих заявок уменьшается\n",
    "sns.histplot(train,\n",
    "             x=\"manager_count\",\n",
    "             hue=\"interest_level\",\n",
    "             bins=50,\n",
    "            )"
   ]
  },
  {
   "cell_type": "markdown",
   "id": "96fd31c3",
   "metadata": {},
   "source": [
    "## Анализ зависимости от времени"
   ]
  },
  {
   "cell_type": "markdown",
   "id": "f4745e92",
   "metadata": {},
   "source": [
    "**Переводим время к формату datetime**"
   ]
  },
  {
   "cell_type": "code",
   "execution_count": 231,
   "id": "32e4a6ad",
   "metadata": {},
   "outputs": [
    {
     "data": {
      "text/plain": [
       "0       2016-06-02 04:21:46\n",
       "1       2016-05-26 05:44:12\n",
       "2       2016-06-17 01:22:32\n",
       "3       2016-06-03 05:26:40\n",
       "4       2016-04-12 04:10:28\n",
       "                ...        \n",
       "39476   2016-06-20 18:09:47\n",
       "39477   2016-04-26 05:40:27\n",
       "39478   2016-04-10 03:20:09\n",
       "39479   2016-06-03 03:53:35\n",
       "39480   2016-06-15 02:29:10\n",
       "Name: created, Length: 39481, dtype: datetime64[ns]"
      ]
     },
     "execution_count": 231,
     "metadata": {},
     "output_type": "execute_result"
    }
   ],
   "source": [
    "train.created = pd.to_datetime(train.created)\n",
    "train.created"
   ]
  },
  {
   "cell_type": "code",
   "execution_count": 233,
   "id": "4fa91e85",
   "metadata": {},
   "outputs": [
    {
     "data": {
      "text/html": [
       "<div>\n",
       "<style scoped>\n",
       "    .dataframe tbody tr th:only-of-type {\n",
       "        vertical-align: middle;\n",
       "    }\n",
       "\n",
       "    .dataframe tbody tr th {\n",
       "        vertical-align: top;\n",
       "    }\n",
       "\n",
       "    .dataframe thead th {\n",
       "        text-align: right;\n",
       "    }\n",
       "</style>\n",
       "<table border=\"1\" class=\"dataframe\">\n",
       "  <thead>\n",
       "    <tr style=\"text-align: right;\">\n",
       "      <th></th>\n",
       "      <th>bathrooms</th>\n",
       "      <th>bedrooms</th>\n",
       "      <th>created</th>\n",
       "      <th>description</th>\n",
       "      <th>display_address</th>\n",
       "      <th>features</th>\n",
       "      <th>latitude</th>\n",
       "      <th>longitude</th>\n",
       "      <th>manager_id</th>\n",
       "      <th>price</th>\n",
       "      <th>street_address</th>\n",
       "      <th>interest_level</th>\n",
       "      <th>num_photos</th>\n",
       "      <th>num_description_words</th>\n",
       "      <th>manager_exp</th>\n",
       "      <th>manager_rating</th>\n",
       "    </tr>\n",
       "  </thead>\n",
       "  <tbody>\n",
       "    <tr>\n",
       "      <th>21369</th>\n",
       "      <td>1.0</td>\n",
       "      <td>0</td>\n",
       "      <td>2016-04-01 22:56:00</td>\n",
       "      <td>This Enormous Studio Features: Harwood Floors,...</td>\n",
       "      <td>East 54th Street</td>\n",
       "      <td>[Cats Allowed, Dogs Allowed, No Fee, Laundry I...</td>\n",
       "      <td>40.7576</td>\n",
       "      <td>-73.9677</td>\n",
       "      <td>3b630ec9cb6eee53b92cfac7f42e3bf4</td>\n",
       "      <td>2000</td>\n",
       "      <td>230 East 54th Street</td>\n",
       "      <td>1</td>\n",
       "      <td>2</td>\n",
       "      <td>53</td>\n",
       "      <td>21</td>\n",
       "      <td>4.639272</td>\n",
       "    </tr>\n",
       "    <tr>\n",
       "      <th>8484</th>\n",
       "      <td>2.0</td>\n",
       "      <td>3</td>\n",
       "      <td>2016-04-01 22:57:15</td>\n",
       "      <td>--- East 31st St &amp; Lexington Avenue --- This S...</td>\n",
       "      <td>East 31st St &amp; Lexington Avenue</td>\n",
       "      <td>[Common Outdoor Space, Cats Allowed, Private O...</td>\n",
       "      <td>40.7388</td>\n",
       "      <td>-73.9851</td>\n",
       "      <td>3b630ec9cb6eee53b92cfac7f42e3bf4</td>\n",
       "      <td>5850</td>\n",
       "      <td>105 Lexington Avenue</td>\n",
       "      <td>2</td>\n",
       "      <td>7</td>\n",
       "      <td>65</td>\n",
       "      <td>21</td>\n",
       "      <td>4.639272</td>\n",
       "    </tr>\n",
       "    <tr>\n",
       "      <th>17611</th>\n",
       "      <td>1.0</td>\n",
       "      <td>1</td>\n",
       "      <td>2016-04-02 00:48:13</td>\n",
       "      <td>Phenomenal deal of the century!! This spacious...</td>\n",
       "      <td>E 88th street</td>\n",
       "      <td>[Cats Allowed, Dogs Allowed, Doorman, Elevator...</td>\n",
       "      <td>40.7784</td>\n",
       "      <td>-73.9491</td>\n",
       "      <td>7c5e4fc025b70c6540d6b0e06716b9dd</td>\n",
       "      <td>2400</td>\n",
       "      <td>401 E 88th street</td>\n",
       "      <td>1</td>\n",
       "      <td>7</td>\n",
       "      <td>94</td>\n",
       "      <td>55</td>\n",
       "      <td>2.550121</td>\n",
       "    </tr>\n",
       "    <tr>\n",
       "      <th>11550</th>\n",
       "      <td>1.0</td>\n",
       "      <td>2</td>\n",
       "      <td>2016-04-02 01:11:30</td>\n",
       "      <td>photos coming soon...............................</td>\n",
       "      <td>East 21st Street</td>\n",
       "      <td>[Pre-War, Dogs Allowed, Cats Allowed]</td>\n",
       "      <td>40.7366</td>\n",
       "      <td>-73.9826</td>\n",
       "      <td>92343a6bd78f22d6968260f85ee79c2d</td>\n",
       "      <td>3150</td>\n",
       "      <td>240 East 21st Street</td>\n",
       "      <td>0</td>\n",
       "      <td>1</td>\n",
       "      <td>3</td>\n",
       "      <td>4</td>\n",
       "      <td>0.000000</td>\n",
       "    </tr>\n",
       "    <tr>\n",
       "      <th>37478</th>\n",
       "      <td>1.0</td>\n",
       "      <td>1</td>\n",
       "      <td>2016-04-02 01:11:31</td>\n",
       "      <td>NO FEE Recently renovated, the oversized apart...</td>\n",
       "      <td>First Avenue</td>\n",
       "      <td>[Fitness Center, Pre-War, No Fee, Dogs Allowed...</td>\n",
       "      <td>40.7318</td>\n",
       "      <td>-73.9822</td>\n",
       "      <td>d24abc331d8b47f73a369795690c010a</td>\n",
       "      <td>3325</td>\n",
       "      <td>252 First Avenue</td>\n",
       "      <td>0</td>\n",
       "      <td>5</td>\n",
       "      <td>60</td>\n",
       "      <td>74</td>\n",
       "      <td>0.000000</td>\n",
       "    </tr>\n",
       "    <tr>\n",
       "      <th>...</th>\n",
       "      <td>...</td>\n",
       "      <td>...</td>\n",
       "      <td>...</td>\n",
       "      <td>...</td>\n",
       "      <td>...</td>\n",
       "      <td>...</td>\n",
       "      <td>...</td>\n",
       "      <td>...</td>\n",
       "      <td>...</td>\n",
       "      <td>...</td>\n",
       "      <td>...</td>\n",
       "      <td>...</td>\n",
       "      <td>...</td>\n",
       "      <td>...</td>\n",
       "      <td>...</td>\n",
       "      <td>...</td>\n",
       "    </tr>\n",
       "    <tr>\n",
       "      <th>7097</th>\n",
       "      <td>1.0</td>\n",
       "      <td>1</td>\n",
       "      <td>2016-06-29 17:32:19</td>\n",
       "      <td>Fully renovated 1 Bedroom&lt;br /&gt;Renovated kitch...</td>\n",
       "      <td>East 19th Street</td>\n",
       "      <td>[Doorman, Elevator, Garage, Dishwasher, Hardwo...</td>\n",
       "      <td>40.7356</td>\n",
       "      <td>-73.9828</td>\n",
       "      <td>25d4ea3f8ec14332bcf177e416c6747d</td>\n",
       "      <td>3850</td>\n",
       "      <td>245 East 19TH Street</td>\n",
       "      <td>0</td>\n",
       "      <td>4</td>\n",
       "      <td>22</td>\n",
       "      <td>3</td>\n",
       "      <td>0.366204</td>\n",
       "    </tr>\n",
       "    <tr>\n",
       "      <th>21791</th>\n",
       "      <td>1.0</td>\n",
       "      <td>1</td>\n",
       "      <td>2016-06-29 17:38:02</td>\n",
       "      <td>Beautiful One Bedroom located in a Magnificent...</td>\n",
       "      <td>West 122nd Street</td>\n",
       "      <td>[Laundry In Unit, Cats Allowed, Private Outdoo...</td>\n",
       "      <td>40.8078</td>\n",
       "      <td>-73.9511</td>\n",
       "      <td>f1e497a5f59e1c3f015a2e46632af940</td>\n",
       "      <td>2695</td>\n",
       "      <td>243 West 122nd Street</td>\n",
       "      <td>0</td>\n",
       "      <td>4</td>\n",
       "      <td>165</td>\n",
       "      <td>2</td>\n",
       "      <td>0.346574</td>\n",
       "    </tr>\n",
       "    <tr>\n",
       "      <th>19860</th>\n",
       "      <td>1.0</td>\n",
       "      <td>2</td>\n",
       "      <td>2016-06-29 17:47:34</td>\n",
       "      <td>Newly renovated, clean, quiet &amp; very bright  2...</td>\n",
       "      <td>At Thompson St</td>\n",
       "      <td>[]</td>\n",
       "      <td>40.7261</td>\n",
       "      <td>-74.0014</td>\n",
       "      <td>0bafd514443193d057e8a60e45cb7ea6</td>\n",
       "      <td>3045</td>\n",
       "      <td>132 Thompson St #20</td>\n",
       "      <td>1</td>\n",
       "      <td>4</td>\n",
       "      <td>32</td>\n",
       "      <td>30</td>\n",
       "      <td>2.154092</td>\n",
       "    </tr>\n",
       "    <tr>\n",
       "      <th>12467</th>\n",
       "      <td>1.0</td>\n",
       "      <td>1</td>\n",
       "      <td>2016-06-29 18:14:48</td>\n",
       "      <td>Large, sunny one bedroom apartment with a sepa...</td>\n",
       "      <td>West 45th St. and 8th Ave.</td>\n",
       "      <td>[Cats Allowed, Dogs Allowed, Elevator, Laundry...</td>\n",
       "      <td>40.7597</td>\n",
       "      <td>-73.9890</td>\n",
       "      <td>634f618895493a04f7722f113a89947b</td>\n",
       "      <td>2650</td>\n",
       "      <td>305 West 45th St.</td>\n",
       "      <td>0</td>\n",
       "      <td>3</td>\n",
       "      <td>52</td>\n",
       "      <td>9</td>\n",
       "      <td>0.488272</td>\n",
       "    </tr>\n",
       "    <tr>\n",
       "      <th>33384</th>\n",
       "      <td>1.0</td>\n",
       "      <td>3</td>\n",
       "      <td>2016-06-29 18:30:41</td>\n",
       "      <td>LOOK NO FURTHER!!\\r\\rMassive three bedroom apa...</td>\n",
       "      <td>williamsburg</td>\n",
       "      <td>[Laundry In Unit, Cats Allowed, Dogs Allowed, ...</td>\n",
       "      <td>40.7156</td>\n",
       "      <td>-73.9540</td>\n",
       "      <td>699c325b818541f314b691b76f3238d7</td>\n",
       "      <td>3200</td>\n",
       "      <td>32 Havemeyer Street</td>\n",
       "      <td>1</td>\n",
       "      <td>4</td>\n",
       "      <td>63</td>\n",
       "      <td>135</td>\n",
       "      <td>2.652482</td>\n",
       "    </tr>\n",
       "  </tbody>\n",
       "</table>\n",
       "<p>39481 rows × 16 columns</p>\n",
       "</div>"
      ],
      "text/plain": [
       "       bathrooms  bedrooms             created  \\\n",
       "21369        1.0         0 2016-04-01 22:56:00   \n",
       "8484         2.0         3 2016-04-01 22:57:15   \n",
       "17611        1.0         1 2016-04-02 00:48:13   \n",
       "11550        1.0         2 2016-04-02 01:11:30   \n",
       "37478        1.0         1 2016-04-02 01:11:31   \n",
       "...          ...       ...                 ...   \n",
       "7097         1.0         1 2016-06-29 17:32:19   \n",
       "21791        1.0         1 2016-06-29 17:38:02   \n",
       "19860        1.0         2 2016-06-29 17:47:34   \n",
       "12467        1.0         1 2016-06-29 18:14:48   \n",
       "33384        1.0         3 2016-06-29 18:30:41   \n",
       "\n",
       "                                             description  \\\n",
       "21369  This Enormous Studio Features: Harwood Floors,...   \n",
       "8484   --- East 31st St & Lexington Avenue --- This S...   \n",
       "17611  Phenomenal deal of the century!! This spacious...   \n",
       "11550  photos coming soon...............................   \n",
       "37478  NO FEE Recently renovated, the oversized apart...   \n",
       "...                                                  ...   \n",
       "7097   Fully renovated 1 Bedroom<br />Renovated kitch...   \n",
       "21791  Beautiful One Bedroom located in a Magnificent...   \n",
       "19860  Newly renovated, clean, quiet & very bright  2...   \n",
       "12467  Large, sunny one bedroom apartment with a sepa...   \n",
       "33384  LOOK NO FURTHER!!\\r\\rMassive three bedroom apa...   \n",
       "\n",
       "                       display_address  \\\n",
       "21369                 East 54th Street   \n",
       "8484   East 31st St & Lexington Avenue   \n",
       "17611                    E 88th street   \n",
       "11550                 East 21st Street   \n",
       "37478                     First Avenue   \n",
       "...                                ...   \n",
       "7097                  East 19th Street   \n",
       "21791                West 122nd Street   \n",
       "19860                  At Thompson St    \n",
       "12467       West 45th St. and 8th Ave.   \n",
       "33384                     williamsburg   \n",
       "\n",
       "                                                features  latitude  longitude  \\\n",
       "21369  [Cats Allowed, Dogs Allowed, No Fee, Laundry I...   40.7576   -73.9677   \n",
       "8484   [Common Outdoor Space, Cats Allowed, Private O...   40.7388   -73.9851   \n",
       "17611  [Cats Allowed, Dogs Allowed, Doorman, Elevator...   40.7784   -73.9491   \n",
       "11550              [Pre-War, Dogs Allowed, Cats Allowed]   40.7366   -73.9826   \n",
       "37478  [Fitness Center, Pre-War, No Fee, Dogs Allowed...   40.7318   -73.9822   \n",
       "...                                                  ...       ...        ...   \n",
       "7097   [Doorman, Elevator, Garage, Dishwasher, Hardwo...   40.7356   -73.9828   \n",
       "21791  [Laundry In Unit, Cats Allowed, Private Outdoo...   40.8078   -73.9511   \n",
       "19860                                                 []   40.7261   -74.0014   \n",
       "12467  [Cats Allowed, Dogs Allowed, Elevator, Laundry...   40.7597   -73.9890   \n",
       "33384  [Laundry In Unit, Cats Allowed, Dogs Allowed, ...   40.7156   -73.9540   \n",
       "\n",
       "                             manager_id  price         street_address  \\\n",
       "21369  3b630ec9cb6eee53b92cfac7f42e3bf4   2000   230 East 54th Street   \n",
       "8484   3b630ec9cb6eee53b92cfac7f42e3bf4   5850   105 Lexington Avenue   \n",
       "17611  7c5e4fc025b70c6540d6b0e06716b9dd   2400      401 E 88th street   \n",
       "11550  92343a6bd78f22d6968260f85ee79c2d   3150   240 East 21st Street   \n",
       "37478  d24abc331d8b47f73a369795690c010a   3325       252 First Avenue   \n",
       "...                                 ...    ...                    ...   \n",
       "7097   25d4ea3f8ec14332bcf177e416c6747d   3850   245 East 19TH Street   \n",
       "21791  f1e497a5f59e1c3f015a2e46632af940   2695  243 West 122nd Street   \n",
       "19860  0bafd514443193d057e8a60e45cb7ea6   3045    132 Thompson St #20   \n",
       "12467  634f618895493a04f7722f113a89947b   2650      305 West 45th St.   \n",
       "33384  699c325b818541f314b691b76f3238d7   3200    32 Havemeyer Street   \n",
       "\n",
       "       interest_level  num_photos  num_description_words  manager_exp  \\\n",
       "21369               1           2                     53           21   \n",
       "8484                2           7                     65           21   \n",
       "17611               1           7                     94           55   \n",
       "11550               0           1                      3            4   \n",
       "37478               0           5                     60           74   \n",
       "...               ...         ...                    ...          ...   \n",
       "7097                0           4                     22            3   \n",
       "21791               0           4                    165            2   \n",
       "19860               1           4                     32           30   \n",
       "12467               0           3                     52            9   \n",
       "33384               1           4                     63          135   \n",
       "\n",
       "       manager_rating  \n",
       "21369        4.639272  \n",
       "8484         4.639272  \n",
       "17611        2.550121  \n",
       "11550        0.000000  \n",
       "37478        0.000000  \n",
       "...               ...  \n",
       "7097         0.366204  \n",
       "21791        0.346574  \n",
       "19860        2.154092  \n",
       "12467        0.488272  \n",
       "33384        2.652482  \n",
       "\n",
       "[39481 rows x 16 columns]"
      ]
     },
     "execution_count": 233,
     "metadata": {},
     "output_type": "execute_result"
    }
   ],
   "source": [
    "time_train = train.sort_values(by=[\"created\"])\n",
    "time_train"
   ]
  },
  {
   "cell_type": "code",
   "execution_count": 234,
   "id": "919fd265",
   "metadata": {},
   "outputs": [],
   "source": [
    "new_created = pd.DataFrame(time_train)\n",
    "new_created.index = time_train.created"
   ]
  },
  {
   "cell_type": "markdown",
   "id": "780c77f4",
   "metadata": {},
   "source": [
    "**Этот график отображает, что существует зависимость от времени дня к кол-ву заявок**"
   ]
  },
  {
   "cell_type": "code",
   "execution_count": 237,
   "id": "c00d4978",
   "metadata": {},
   "outputs": [
    {
     "data": {
      "text/plain": [
       "<AxesSubplot:xlabel='created', ylabel='Count'>"
      ]
     },
     "execution_count": 237,
     "metadata": {},
     "output_type": "execute_result"
    },
    {
     "data": {
      "image/png": "[encoded data removed]",
      "text/plain": [
       "<Figure size 432x288 with 1 Axes>"
      ]
     },
     "metadata": {
      "needs_background": "light"
     },
     "output_type": "display_data"
    }
   ],
   "source": [
    "sns.histplot(new_created.loc[\"2016-04-01\": \"2016-04-08\"],\n",
    "             x=\"created\",\n",
    "             hue=\"interest_level\",\n",
    "             bins=50,\n",
    "            )"
   ]
  },
  {
   "cell_type": "markdown",
   "id": "b2a05fdf",
   "metadata": {},
   "source": [
    "**Проанализируем дни недели**"
   ]
  },
  {
   "cell_type": "code",
   "execution_count": 242,
   "id": "cca2c89f",
   "metadata": {},
   "outputs": [],
   "source": [
    "import datetime\n",
    "counts = []\n",
    "dates = []\n",
    "daynumbers = []\n",
    "for j in range(4, 7):\n",
    "    for i in range(1, 30):\n",
    "        dates.append(f\"2016-{j}-{i}\")\n",
    "        daynumbers.append(datetime.datetime(2016, j, i).weekday())\n",
    "        counts.append(len(new_created.loc[f\"2016-{j}-{i}\"]))"
   ]
  },
  {
   "cell_type": "code",
   "execution_count": 243,
   "id": "34238058",
   "metadata": {},
   "outputs": [
    {
     "data": {
      "text/html": [
       "<div>\n",
       "<style scoped>\n",
       "    .dataframe tbody tr th:only-of-type {\n",
       "        vertical-align: middle;\n",
       "    }\n",
       "\n",
       "    .dataframe tbody tr th {\n",
       "        vertical-align: top;\n",
       "    }\n",
       "\n",
       "    .dataframe thead th {\n",
       "        text-align: right;\n",
       "    }\n",
       "</style>\n",
       "<table border=\"1\" class=\"dataframe\">\n",
       "  <thead>\n",
       "    <tr style=\"text-align: right;\">\n",
       "      <th></th>\n",
       "      <th>date</th>\n",
       "      <th>count</th>\n",
       "      <th>daynumber</th>\n",
       "    </tr>\n",
       "  </thead>\n",
       "  <tbody>\n",
       "    <tr>\n",
       "      <th>0</th>\n",
       "      <td>2016-4-1</td>\n",
       "      <td>2</td>\n",
       "      <td>4</td>\n",
       "    </tr>\n",
       "    <tr>\n",
       "      <th>1</th>\n",
       "      <td>2016-4-2</td>\n",
       "      <td>520</td>\n",
       "      <td>5</td>\n",
       "    </tr>\n",
       "    <tr>\n",
       "      <th>2</th>\n",
       "      <td>2016-4-3</td>\n",
       "      <td>254</td>\n",
       "      <td>6</td>\n",
       "    </tr>\n",
       "    <tr>\n",
       "      <th>3</th>\n",
       "      <td>2016-4-4</td>\n",
       "      <td>266</td>\n",
       "      <td>0</td>\n",
       "    </tr>\n",
       "    <tr>\n",
       "      <th>4</th>\n",
       "      <td>2016-4-5</td>\n",
       "      <td>462</td>\n",
       "      <td>1</td>\n",
       "    </tr>\n",
       "    <tr>\n",
       "      <th>...</th>\n",
       "      <td>...</td>\n",
       "      <td>...</td>\n",
       "      <td>...</td>\n",
       "    </tr>\n",
       "    <tr>\n",
       "      <th>82</th>\n",
       "      <td>2016-6-25</td>\n",
       "      <td>467</td>\n",
       "      <td>5</td>\n",
       "    </tr>\n",
       "    <tr>\n",
       "      <th>83</th>\n",
       "      <td>2016-6-26</td>\n",
       "      <td>216</td>\n",
       "      <td>6</td>\n",
       "    </tr>\n",
       "    <tr>\n",
       "      <th>84</th>\n",
       "      <td>2016-6-27</td>\n",
       "      <td>260</td>\n",
       "      <td>0</td>\n",
       "    </tr>\n",
       "    <tr>\n",
       "      <th>85</th>\n",
       "      <td>2016-6-28</td>\n",
       "      <td>495</td>\n",
       "      <td>1</td>\n",
       "    </tr>\n",
       "    <tr>\n",
       "      <th>86</th>\n",
       "      <td>2016-6-29</td>\n",
       "      <td>639</td>\n",
       "      <td>2</td>\n",
       "    </tr>\n",
       "  </tbody>\n",
       "</table>\n",
       "<p>87 rows × 3 columns</p>\n",
       "</div>"
      ],
      "text/plain": [
       "         date  count  daynumber\n",
       "0    2016-4-1      2          4\n",
       "1    2016-4-2    520          5\n",
       "2    2016-4-3    254          6\n",
       "3    2016-4-4    266          0\n",
       "4    2016-4-5    462          1\n",
       "..        ...    ...        ...\n",
       "82  2016-6-25    467          5\n",
       "83  2016-6-26    216          6\n",
       "84  2016-6-27    260          0\n",
       "85  2016-6-28    495          1\n",
       "86  2016-6-29    639          2\n",
       "\n",
       "[87 rows x 3 columns]"
      ]
     },
     "execution_count": 243,
     "metadata": {},
     "output_type": "execute_result"
    }
   ],
   "source": [
    "counts = pd.DataFrame({\"date\": dates, \"count\": counts, \"daynumber\": daynumbers})\n",
    "counts"
   ]
  },
  {
   "cell_type": "markdown",
   "id": "7dff1ec4",
   "metadata": {},
   "source": [
    "**Получается, что по будням больше спрос, **"
   ]
  },
  {
   "cell_type": "code",
   "execution_count": 244,
   "id": "9cd557bc",
   "metadata": {},
   "outputs": [
    {
     "data": {
      "text/html": [
       "<div>\n",
       "<style scoped>\n",
       "    .dataframe tbody tr th:only-of-type {\n",
       "        vertical-align: middle;\n",
       "    }\n",
       "\n",
       "    .dataframe tbody tr th {\n",
       "        vertical-align: top;\n",
       "    }\n",
       "\n",
       "    .dataframe thead th {\n",
       "        text-align: right;\n",
       "    }\n",
       "</style>\n",
       "<table border=\"1\" class=\"dataframe\">\n",
       "  <thead>\n",
       "    <tr style=\"text-align: right;\">\n",
       "      <th></th>\n",
       "      <th>count</th>\n",
       "    </tr>\n",
       "    <tr>\n",
       "      <th>daynumber</th>\n",
       "      <th></th>\n",
       "    </tr>\n",
       "  </thead>\n",
       "  <tbody>\n",
       "    <tr>\n",
       "      <th>0</th>\n",
       "      <td>264.333333</td>\n",
       "    </tr>\n",
       "    <tr>\n",
       "      <th>1</th>\n",
       "      <td>567.083333</td>\n",
       "    </tr>\n",
       "    <tr>\n",
       "      <th>2</th>\n",
       "      <td>582.153846</td>\n",
       "    </tr>\n",
       "    <tr>\n",
       "      <th>3</th>\n",
       "      <td>545.416667</td>\n",
       "    </tr>\n",
       "    <tr>\n",
       "      <th>4</th>\n",
       "      <td>468.846154</td>\n",
       "    </tr>\n",
       "    <tr>\n",
       "      <th>5</th>\n",
       "      <td>425.416667</td>\n",
       "    </tr>\n",
       "    <tr>\n",
       "      <th>6</th>\n",
       "      <td>277.692308</td>\n",
       "    </tr>\n",
       "  </tbody>\n",
       "</table>\n",
       "</div>"
      ],
      "text/plain": [
       "                count\n",
       "daynumber            \n",
       "0          264.333333\n",
       "1          567.083333\n",
       "2          582.153846\n",
       "3          545.416667\n",
       "4          468.846154\n",
       "5          425.416667\n",
       "6          277.692308"
      ]
     },
     "execution_count": 244,
     "metadata": {},
     "output_type": "execute_result"
    }
   ],
   "source": [
    "counts.groupby(\"daynumber\").mean()"
   ]
  },
  {
   "cell_type": "markdown",
   "id": "77ba264c",
   "metadata": {},
   "source": [
    "## Идеи для временных фичей\n",
    "**Выходной?  (По выходным меньше заявок)**\n",
    "**3 класса дня (0 - Понедельник, Вторник, Среда, 1 - Четверг, Пятница, 2 - Суббота воскрсенье) **\n",
    "**Утро? 0 - 10**"
   ]
  },
  {
   "cell_type": "code",
   "execution_count": null,
   "id": "4ec824ff",
   "metadata": {},
   "outputs": [],
   "source": []
  }
 ],
 "metadata": {
  "kernelspec": {
   "display_name": "Python 3",
   "language": "python",
   "name": "python3"
  },
  "language_info": {
   "codemirror_mode": {
    "name": "ipython",
    "version": 3
   },
   "file_extension": ".py",
   "mimetype": "text/x-python",
   "name": "python",
   "nbconvert_exporter": "python",
   "pygments_lexer": "ipython3",
   "version": "3.8.3"
  }
 },
 "nbformat": 4,
 "nbformat_minor": 5
}
